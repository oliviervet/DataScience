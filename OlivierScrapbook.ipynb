{
  "metadata": {
    "kernelspec": {
      "name": "python",
      "display_name": "Pyolite",
      "language": "python"
    },
    "language_info": {
      "codemirror_mode": {
        "name": "python",
        "version": 3
      },
      "file_extension": ".py",
      "mimetype": "text/x-python",
      "name": "python",
      "nbconvert_exporter": "python",
      "pygments_lexer": "ipython3",
      "version": "3.8"
    }
  },
  "nbformat_minor": 4,
  "nbformat": 4,
  "cells": [
    {
      "cell_type": "markdown",
      "source": "<center>\n    <img src=\"https://cf-courses-data.s3.us.cloud-object-storage.appdomain.cloud/IBMDeveloperSkillsNetwork-DS0105EN-SkillsNetwork/labs/Module2/images/SN_web_lightmode.png\" width=\"300\" alt=\"cognitiveclass.ai logo\"  />\n</center>\n",
      "metadata": {}
    },
    {
      "cell_type": "markdown",
      "source": "#### Add your code below following the instructions given in the course\n",
      "metadata": {}
    },
    {
      "cell_type": "code",
      "source": "sum = 1+1\ncomplexsum = 2354*9775657\nprint(sum)\nprint(complexsum)",
      "metadata": {
        "trusted": true
      },
      "execution_count": 4,
      "outputs": [
        {
          "name": "stdout",
          "text": "2\n23011896578\n",
          "output_type": "stream"
        }
      ]
    },
    {
      "cell_type": "raw",
      "source": "inserted a cell above with shortcut a",
      "metadata": {}
    },
    {
      "cell_type": "raw",
      "source": "cell inserted below",
      "metadata": {}
    },
    {
      "cell_type": "raw",
      "source": "inserted a cell below with shortcut b",
      "metadata": {}
    },
    {
      "cell_type": "markdown",
      "source": "# My first Markdown text\nThis is a first attempt to write a markdown text in Jupyter.\nIt makes it convenient to add comments and describe research questions and answers.\nit is good to **organise** information. *easy for a person like me...*",
      "metadata": {}
    },
    {
      "cell_type": "markdown",
      "source": "Below is an example of the use of HTML tekst in a Jupyter notebook.\n\nThis is a link : <a href=\"https://dataplatform.cloud.ibm.com/gallery\">IBM Cloud Gallery</a> ",
      "metadata": {}
    },
    {
      "cell_type": "markdown",
      "source": "This is a table : \n|header|header|\n|----|----|\n|cell|cell|",
      "metadata": {}
    },
    {
      "cell_type": "markdown",
      "source": "This is a more advanced table: \n\n| date | flight nr. | from | to |\n|----|----|----|----|\n|18/01/2023|KL776|AMS|BON|",
      "metadata": {}
    },
    {
      "cell_type": "markdown",
      "source": "...And the same table with more information: \n\n| date | flight nr. | from | to |\n|----|----|----|----|\n|18/01/2023|KL776|AMS|BON|\n|26/01/2023|KL777|BON|AMS|\n|27/01/2023|KL325|AMS|IST|\n|04/02/2023|KL776|IST|BON|",
      "metadata": {}
    },
    {
      "cell_type": "raw",
      "source": "OK. That is it. Seems very cool.",
      "metadata": {}
    }
  ]
}